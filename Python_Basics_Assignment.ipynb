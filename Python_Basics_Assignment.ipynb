{
  "nbformat": 4,
  "nbformat_minor": 0,
  "metadata": {
    "colab": {
      "provenance": []
    },
    "kernelspec": {
      "name": "python3",
      "display_name": "Python 3"
    },
    "language_info": {
      "name": "python"
    }
  },
  "cells": [
    {
      "cell_type": "markdown",
      "source": [
        "#                                            **PYTHON BASICS**"
      ],
      "metadata": {
        "id": "MeOb3u-1CUKX"
      }
    },
    {
      "cell_type": "markdown",
      "source": [
        " 1. What is Python, and why is it popular?"
      ],
      "metadata": {
        "id": "8CtH7FguDFn-"
      }
    },
    {
      "cell_type": "markdown",
      "source": [
        "-  Python is a popular programming language because it's easy to learn, versatile, and can be used for many tasks. It's used in web development, data science, machine learning, and more.\n",
        "-  It is popular for:\n",
        "Easy to learn\n",
        "Python's simple syntax and readability make it easy for beginners to learn.\n",
        "Versatile\n",
        "Python is a general-purpose language that can be used for a wide range of applications.\n",
        "Cross-platform\n",
        "Python runs on many operating systems, including Windows, macOS, and Linux.\n",
        "Supports automation\n",
        "Python can automate repetitive tasks, such as copying and renaming files.\n",
        "Used by big companies\n",
        "Many large companies use Python, including Facebook, Google, Quora, Netflix, and Instagram.\n",
        "Popular in academia\n",
        "Python is a popular choice for academic software and is taught at many colleges and universities."
      ],
      "metadata": {
        "id": "rpeqQZpFDUw8"
      }
    },
    {
      "cell_type": "markdown",
      "source": [
        "2. What is an interpreter in Python?"
      ],
      "metadata": {
        "id": "TxngYSNUFLUq"
      }
    },
    {
      "cell_type": "markdown",
      "source": [
        "- In Python, an interpreter is a program that reads and executes Python code line by line, translating it into machine-readable instructions for the computer to understand."
      ],
      "metadata": {
        "id": "FdOI8cDZFaUk"
      }
    },
    {
      "cell_type": "markdown",
      "source": [
        "3. What are pre-defined keywords in Python?"
      ],
      "metadata": {
        "id": "75NOQgQ_GCOD"
      }
    },
    {
      "cell_type": "markdown",
      "source": [
        "- Python Keywords are some predefined and reserved words in Python that have special meanings. Keywords are used to define the syntax of the coding. The keyword cannot be used as an identifier, function, or variable name."
      ],
      "metadata": {
        "id": "_Bqi6VyfGFiu"
      }
    },
    {
      "cell_type": "markdown",
      "source": [
        "4. Can keywords be used as variable names?"
      ],
      "metadata": {
        "id": "OlukaPmUGgI9"
      }
    },
    {
      "cell_type": "markdown",
      "source": [
        "- No, keywords cannot be used as variable names in most programming languages because keywords are reserved words with predefined meanings that the compiler uses to understand the structure and syntax of the code."
      ],
      "metadata": {
        "id": "DsZeVrSgGqNO"
      }
    },
    {
      "cell_type": "markdown",
      "source": [
        " 5. What is mutability in Python?"
      ],
      "metadata": {
        "id": "XuJuayBIHHMp"
      }
    },
    {
      "cell_type": "markdown",
      "source": [
        "-  In Python, mutability refers to an object's ability to be changed or modified after it's created."
      ],
      "metadata": {
        "id": "YfGNuwWpHO8o"
      }
    },
    {
      "cell_type": "markdown",
      "source": [
        "6. Why are lists mutable, but tuples are immutable?"
      ],
      "metadata": {
        "id": "2FBNO24KHurF"
      }
    },
    {
      "cell_type": "markdown",
      "source": [
        "- Tuples and lists are the same in every way except two: tuples use parentheses instead of square brackets, and the items in tuples cannot be modified. We often call lists mutable and tuples immutable."
      ],
      "metadata": {
        "id": "NuG7EXinH3e6"
      }
    },
    {
      "cell_type": "markdown",
      "source": [
        "7. What is the difference between “==” and “is” operators in Python?"
      ],
      "metadata": {
        "id": "EAGs9-oCIVf5"
      }
    },
    {
      "cell_type": "markdown",
      "source": [
        "- In Python, == checks for value equality (whether two objects have the same content), while is checks for object identity (whether two variables point to the same object in memory).\n",
        "- Here's a more detailed explanation:\n",
        "== (Equality Operator):\n",
        "Compares the values of two objects.\n",
        "Returns True if the objects have the same content, and False otherwise.\n",
        "Example: 1 == 1 is True, and [1, 2] == [1, 2] is True (even if they are different lists in memory).\n",
        "is (Identity Operator):\n",
        "Compares the identity of two objects (whether they are the same object in memory).\n",
        "Returns True if both variables refer to the same object, and False otherwise.\n",
        "Example: a = [1, 2]; b = a; a is b is True (both a and b point to the same list in memory). a = [1, 2]; b = [1, 2]; a is b is False (they are different lists with the same content).\n"
      ],
      "metadata": {
        "id": "ffY4vm8jId_L"
      }
    },
    {
      "cell_type": "markdown",
      "source": [
        "8. What are logical operators in Python?"
      ],
      "metadata": {
        "id": "6o3Vk8d5Jpqs"
      }
    },
    {
      "cell_type": "markdown",
      "source": [
        "- In Python, logical operators, and, or, and not, are used to combine or negate boolean expressions, returning a boolean result (True or False) based on the truth values of the operands.\n",
        "- Here's a breakdown:\n",
        "and:\n",
        "Returns True only if both operands are True; otherwise, it returns False.\n",
        "Example: (5 > 3) and (10 < 20) evaluates to True because both conditions are true.\n",
        "or:\n",
        "Returns True if at least one of the operands is True; it returns False only if both operands are False.\n",
        "Example: (5 > 3) or (10 > 20) evaluates to True because the first condition is true.\n",
        "not:\n",
        "Reverses the truth value of a boolean expression. If the expression is True, not makes it False, and vice versa.\n",
        "Example: not (5 > 3) evaluates to False because the expression (5 > 3) is True."
      ],
      "metadata": {
        "id": "6glu_M-FJ46C"
      }
    },
    {
      "cell_type": "markdown",
      "source": [
        "9. What is type casting in Python?"
      ],
      "metadata": {
        "id": "9CKheHz6JwCq"
      }
    },
    {
      "cell_type": "markdown",
      "source": [
        "- Type casting in Python is the process of changing a variable's data type to match the operation being performed. It's also known as type conversion."
      ],
      "metadata": {
        "id": "rcoY5V3dLTmL"
      }
    },
    {
      "cell_type": "markdown",
      "source": [
        "10. What is the difference between implicit and explicit type casting?"
      ],
      "metadata": {
        "id": "WKQ0lOJ9Lho0"
      }
    },
    {
      "cell_type": "markdown",
      "source": [
        "- In programming, implicit type casting happens automatically by the compiler, while explicit type casting (also known as type casting) requires the programmer to explicitly instruct the conversion using a specific syntax.\n",
        "\n",
        "Here's a more detailed breakdown:\n",
        "Implicit Type Casting (Type Coercion):\n",
        "Definition: The compiler automatically converts a value from one data type to another, often when assigning a value of a smaller type to a variable of a larger type, or during operations with mixed data types.\n",
        "\n",
        "Characteristics:\n",
        "Occurs automatically by the compiler.\n",
        "No special syntax is required.\n",
        "Typically safe when converting to a larger data type (e.g., int to double).\n",
        "Can lead to data loss when converting to a smaller data type (e.g., double to int).\n",
        "Also known as: Widening conversion\n",
        "Explicit Type Casting:\n",
        "Definition: The programmer uses a specific syntax to convert a value from one data type to another.\n",
        "\n",
        "Characteristics:\n",
        "Requires explicit syntax (e.g., parentheses with the desired data type).\n",
        "Used when a conversion might lead to data loss or when the programmer wants to control the conversion process.\n",
        "Helps prevent unexpected behavior or errors.\n",
        "Also known as: Narrowing conversion"
      ],
      "metadata": {
        "id": "KhDURlEOLqwi"
      }
    },
    {
      "cell_type": "markdown",
      "source": [
        "11.  What is the purpose of conditional statements in Python?"
      ],
      "metadata": {
        "id": "2ql7jnY-M3YF"
      }
    },
    {
      "cell_type": "markdown",
      "source": [
        "- Conditional statements in Python, like if, elif, and else, allow you to control the flow of your program by executing specific code blocks based on whether certain conditions are true or false, enabling dynamic and responsive programs.\n",
        "Here's a more detailed explanation:\n",
        "Control Flow:\n",
        "Conditional statements are fundamental tools for directing the execution path of a program.\n",
        "Decision Making:\n",
        "They enable your code to make decisions based on conditions, allowing you to perform different actions depending on the situation"
      ],
      "metadata": {
        "id": "3b6ybo4lNNaS"
      }
    },
    {
      "cell_type": "markdown",
      "source": [
        " 12. How does the elif statement work?"
      ],
      "metadata": {
        "id": "17TEYXix985e"
      }
    },
    {
      "cell_type": "markdown",
      "source": [
        "- The “elif” keyword in Python, stands for “else if”. It can be used in conditional statements to check for multiple conditions. For example, if the first condition is false, it moves on to the next “elif” statement to check if that condition is true."
      ],
      "metadata": {
        "id": "EeYPRaat-DgH"
      }
    },
    {
      "cell_type": "markdown",
      "source": [
        "13.  What is the difference between for and while loops?"
      ],
      "metadata": {
        "id": "EHFXL7lc-Z7G"
      }
    },
    {
      "cell_type": "markdown",
      "source": [
        "- The primary difference between for and while loops lies in their iteration control: for loops are used when the number of iterations is known beforehand, while while loops are used when the loop continues until a specific condition is met, which may be an unknown number of times.\n",
        "- Here's a more detailed explanation:\n",
        "- For Loop:\n",
        "- Best suited for situations where you know exactly how many times the code needs to be executed.\n",
        "- Typically used for iterating over a sequence (like a list, string, or range of numbers).\n",
        "- The loop structure often includes an initialization statement, a condition, and an increment/decrement statement.\n",
        "- While Loop:\n",
        "- Ideal when the number of iterations is not known in advance and depends on a dynamic condition.\n",
        "- The loop continues to execute as long as the condition remains true.\n",
        "- The condition is checked at the beginning of each iteration.\n"
      ],
      "metadata": {
        "id": "mM7UCpvr-kLl"
      }
    },
    {
      "cell_type": "markdown",
      "source": [
        "14. Describe a scenario where a while loop is more suitable than a for loop."
      ],
      "metadata": {
        "id": "q2pCsow4_Vr0"
      }
    },
    {
      "cell_type": "markdown",
      "source": [
        "- In contrast to a 'for' loop, which is generally used when the number of iterations is known beforehand, a 'while' loop is ideal for situations where the number of iterations is not predetermined and depends on some dynamic condition."
      ],
      "metadata": {
        "id": "5fCRfjW0_giS"
      }
    },
    {
      "cell_type": "markdown",
      "source": [
        "**Practical Questions**"
      ],
      "metadata": {
        "id": "uliMsbAyAGcp"
      }
    },
    {
      "cell_type": "markdown",
      "source": [
        "1. Write a Python program to print \"Hello, World!\""
      ],
      "metadata": {
        "id": "UA1mrPdaAUZ6"
      }
    },
    {
      "cell_type": "code",
      "source": [
        "print(\"Hello World!\")"
      ],
      "metadata": {
        "colab": {
          "base_uri": "https://localhost:8080/"
        },
        "id": "B0BjBnHWAoGk",
        "outputId": "12b0aa95-398e-4059-cf43-5fc5565f0f67"
      },
      "execution_count": null,
      "outputs": [
        {
          "output_type": "stream",
          "name": "stdout",
          "text": [
            "Hello World!\n"
          ]
        }
      ]
    },
    {
      "cell_type": "markdown",
      "source": [
        "2.  Write a Python program that displays your name and age."
      ],
      "metadata": {
        "id": "idG2iqHQCbz4"
      }
    },
    {
      "cell_type": "code",
      "source": [
        "# Define the name and age variables\n",
        "name = \"Sarita\"\n",
        "age = 25\n",
        "\n",
        "# Display the name and age\n",
        "print(\"Name:\", name)\n",
        "print(\"Age:\", age)"
      ],
      "metadata": {
        "colab": {
          "base_uri": "https://localhost:8080/"
        },
        "id": "MkV3iAPLTfOV",
        "outputId": "b3db6266-e7af-487f-da55-69d385e71e0b"
      },
      "execution_count": null,
      "outputs": [
        {
          "output_type": "stream",
          "name": "stdout",
          "text": [
            "Name: Sarita\n",
            "Age: 25\n"
          ]
        }
      ]
    },
    {
      "cell_type": "code",
      "source": [
        "print(\"Sarita\")\n",
        "print(\"25\")"
      ],
      "metadata": {
        "colab": {
          "base_uri": "https://localhost:8080/"
        },
        "id": "jtmy3ozlCg6O",
        "outputId": "d5d301f3-d4e4-4cb2-eafd-c681a69e0032"
      },
      "execution_count": null,
      "outputs": [
        {
          "output_type": "stream",
          "name": "stdout",
          "text": [
            "Sarita\n",
            "25\n"
          ]
        }
      ]
    },
    {
      "cell_type": "code",
      "source": [
        "name = input(\"Enter name: \")\n",
        "age = input(\"Enter age: \")"
      ],
      "metadata": {
        "colab": {
          "base_uri": "https://localhost:8080/"
        },
        "id": "Uda4sJ_rEhhI",
        "outputId": "17e85f39-3d5c-4360-ced3-5c1661b9e652"
      },
      "execution_count": null,
      "outputs": [
        {
          "name": "stdout",
          "output_type": "stream",
          "text": [
            "Enter name: sarita\n",
            "Enter age: 25\n"
          ]
        }
      ]
    },
    {
      "cell_type": "markdown",
      "source": [
        "3. Write code to print all the pre-defined keywords in Python using the keyword library"
      ],
      "metadata": {
        "id": "XSAZt1inGQXN"
      }
    },
    {
      "cell_type": "code",
      "source": [
        "help(\"keywords\")"
      ],
      "metadata": {
        "colab": {
          "base_uri": "https://localhost:8080/"
        },
        "id": "YabpYJLDGa0K",
        "outputId": "207046f6-7b88-4dcf-d50b-fa8f6c2fedc6"
      },
      "execution_count": null,
      "outputs": [
        {
          "output_type": "stream",
          "name": "stdout",
          "text": [
            "\n",
            "Here is a list of the Python keywords.  Enter any keyword to get more help.\n",
            "\n",
            "False               class               from                or\n",
            "None                continue            global              pass\n",
            "True                def                 if                  raise\n",
            "and                 del                 import              return\n",
            "as                  elif                in                  try\n",
            "assert              else                is                  while\n",
            "async               except              lambda              with\n",
            "await               finally             nonlocal            yield\n",
            "break               for                 not                 \n",
            "\n"
          ]
        }
      ]
    },
    {
      "cell_type": "markdown",
      "source": [
        "4. Write a program that checks if a given word is a Python keyword."
      ],
      "metadata": {
        "id": "Dij26UOBIKk9"
      }
    },
    {
      "cell_type": "code",
      "source": [
        "import keyword\n",
        "s= input(\"Enter a word: \")\n",
        "if keyword.iskeyword(s):\n",
        "    print(\"your entered word is a keyword\")\n",
        "else:\n",
        "    print(\"your entered word  is not a keyword\")"
      ],
      "metadata": {
        "colab": {
          "base_uri": "https://localhost:8080/"
        },
        "id": "CxyUw4MmKGen",
        "outputId": "5a8a476e-2e51-4bbb-f4aa-c42da2a2195a"
      },
      "execution_count": null,
      "outputs": [
        {
          "output_type": "stream",
          "name": "stdout",
          "text": [
            "Enter a word: continue\n",
            "your entered word is a keyword\n"
          ]
        }
      ]
    },
    {
      "cell_type": "markdown",
      "source": [
        "5.  Create a list and tuple in Python, and demonstrate how attempting to change an element works differently\n",
        "for each"
      ],
      "metadata": {
        "id": "F1G0Lr7lN4Rz"
      }
    },
    {
      "cell_type": "code",
      "source": [
        "# List is a collection of items of same or different data types stored in square brackets []\n",
        "\n",
        "l = [24, 16.3451, True, \"Sarita\", 543, -235]\n",
        "print(l)\n",
        "print(type(l))\n",
        "\n",
        "# List is Mutable i.e., we can change the elements of the list\n",
        "l[0] = \"Python\"\n",
        "print(l)\n"
      ],
      "metadata": {
        "colab": {
          "base_uri": "https://localhost:8080/"
        },
        "id": "11YKARaBIUTC",
        "outputId": "7ceb4b41-1394-41a3-81b1-5aa2b7e46cdd"
      },
      "execution_count": null,
      "outputs": [
        {
          "output_type": "stream",
          "name": "stdout",
          "text": [
            "[24, 16.3451, True, 'Sarita', 543, -235]\n",
            "<class 'list'>\n",
            "['Python', 16.3451, True, 'Sarita', 543, -235]\n"
          ]
        }
      ]
    },
    {
      "cell_type": "code",
      "source": [
        "# Tuple is a collection of items of same or different data types stored in round brackets ()\n",
        "\n",
        "t = (24, 16.3451, True, \"Sarita\", 543, -235)\n",
        "print(t)\n",
        "print(type(t))\n",
        "\n",
        "# Tuple is Immutable i.e., we cannot change the elements of the tuple\n",
        "t[0] = \"Python\"\n",
        "print(t)"
      ],
      "metadata": {
        "colab": {
          "base_uri": "https://localhost:8080/",
          "height": 228
        },
        "id": "LeQXh3C7Jn6E",
        "outputId": "8432b281-1d1f-4024-e856-567cacb5b11f"
      },
      "execution_count": null,
      "outputs": [
        {
          "output_type": "stream",
          "name": "stdout",
          "text": [
            "(24, 16.3451, True, 'Sarita', 543, -235)\n",
            "<class 'tuple'>\n"
          ]
        },
        {
          "output_type": "error",
          "ename": "TypeError",
          "evalue": "'tuple' object does not support item assignment",
          "traceback": [
            "\u001b[0;31m---------------------------------------------------------------------------\u001b[0m",
            "\u001b[0;31mTypeError\u001b[0m                                 Traceback (most recent call last)",
            "\u001b[0;32m<ipython-input-2-30a0cde13e3c>\u001b[0m in \u001b[0;36m<cell line: 0>\u001b[0;34m()\u001b[0m\n\u001b[1;32m      6\u001b[0m \u001b[0;34m\u001b[0m\u001b[0m\n\u001b[1;32m      7\u001b[0m \u001b[0;31m# Tuple is Immutable i.e., we cannot change the elements of the tuple\u001b[0m\u001b[0;34m\u001b[0m\u001b[0;34m\u001b[0m\u001b[0m\n\u001b[0;32m----> 8\u001b[0;31m \u001b[0mt\u001b[0m\u001b[0;34m[\u001b[0m\u001b[0;36m0\u001b[0m\u001b[0;34m]\u001b[0m \u001b[0;34m=\u001b[0m \u001b[0;34m\"Python\"\u001b[0m\u001b[0;34m\u001b[0m\u001b[0;34m\u001b[0m\u001b[0m\n\u001b[0m\u001b[1;32m      9\u001b[0m \u001b[0mprint\u001b[0m\u001b[0;34m(\u001b[0m\u001b[0mt\u001b[0m\u001b[0;34m)\u001b[0m\u001b[0;34m\u001b[0m\u001b[0;34m\u001b[0m\u001b[0m\n",
            "\u001b[0;31mTypeError\u001b[0m: 'tuple' object does not support item assignment"
          ]
        }
      ]
    },
    {
      "cell_type": "markdown",
      "source": [
        "6.  Write a function to demonstrate the behavior of mutable and immutable arguments"
      ],
      "metadata": {
        "id": "krO8UvjJKRjA"
      }
    },
    {
      "cell_type": "code",
      "source": [
        "# Mutability and Immutability\n",
        "# Mutability: Mutable objects are objects whose value can be changed after creation.\n",
        "# Immutability: Immutable objects are objects whose value cannot be changed after creation.\n",
        "\n",
        "l = [56, -8, 76, 2, 0]\n",
        "print(l)\n",
        "print(type(l))\n",
        "\n",
        "# [56, -8, 76, 2, 0]\n",
        "#   0   1   2  3  4\n",
        "\n",
        "# Accessing the elements of the list\n",
        "print(l[0]) # 56\n",
        "print(l[1]) # -8\n",
        "print(l[4]) # 0\n",
        "\n",
        "l[0] = \"Sarita\"\n",
        "print(l)\n",
        "# Because, I can change the value of the list, we say that list is mutable.\n",
        "# Mutable means Flexible i.e. I can change the value of the list."
      ],
      "metadata": {
        "colab": {
          "base_uri": "https://localhost:8080/"
        },
        "id": "GyHnOz7GKYn5",
        "outputId": "cc4c72b6-8b67-414e-eac1-949ecd9d22bc"
      },
      "execution_count": null,
      "outputs": [
        {
          "output_type": "stream",
          "name": "stdout",
          "text": [
            "[56, -8, 76, 2, 0]\n",
            "<class 'list'>\n",
            "56\n",
            "-8\n",
            "0\n",
            "['Sarita', -8, 76, 2, 0]\n"
          ]
        }
      ]
    },
    {
      "cell_type": "code",
      "source": [
        "s = \"Sarita\"\n",
        "print(s)\n",
        "print(type(s))\n",
        "\n",
        "# S a r i t a\n",
        "# 0 1 2 3 4 5\n",
        "\n",
        "# Accessing the elements of the string\n",
        "print(s[0]) # S\n",
        "print(s[1]) # a\n",
        "\n",
        "s[0] = \"P\"\n",
        "print(s)\n",
        "# Because, I cannot change the value of the string, we say that string is immutable.\n",
        "# Immutable means Rigid i.e. I cannot change the value of the string."
      ],
      "metadata": {
        "colab": {
          "base_uri": "https://localhost:8080/",
          "height": 280
        },
        "id": "fOaA6C71M1rK",
        "outputId": "b7be47b4-a175-4703-8892-6e2ce2bd1369"
      },
      "execution_count": null,
      "outputs": [
        {
          "output_type": "stream",
          "name": "stdout",
          "text": [
            "Sarita\n",
            "<class 'str'>\n",
            "S\n",
            "a\n"
          ]
        },
        {
          "output_type": "error",
          "ename": "TypeError",
          "evalue": "'str' object does not support item assignment",
          "traceback": [
            "\u001b[0;31m---------------------------------------------------------------------------\u001b[0m",
            "\u001b[0;31mTypeError\u001b[0m                                 Traceback (most recent call last)",
            "\u001b[0;32m<ipython-input-4-664627d1c4b2>\u001b[0m in \u001b[0;36m<cell line: 0>\u001b[0;34m()\u001b[0m\n\u001b[1;32m     10\u001b[0m \u001b[0mprint\u001b[0m\u001b[0;34m(\u001b[0m\u001b[0ms\u001b[0m\u001b[0;34m[\u001b[0m\u001b[0;36m1\u001b[0m\u001b[0;34m]\u001b[0m\u001b[0;34m)\u001b[0m \u001b[0;31m# a\u001b[0m\u001b[0;34m\u001b[0m\u001b[0;34m\u001b[0m\u001b[0m\n\u001b[1;32m     11\u001b[0m \u001b[0;34m\u001b[0m\u001b[0m\n\u001b[0;32m---> 12\u001b[0;31m \u001b[0ms\u001b[0m\u001b[0;34m[\u001b[0m\u001b[0;36m0\u001b[0m\u001b[0;34m]\u001b[0m \u001b[0;34m=\u001b[0m \u001b[0;34m\"P\"\u001b[0m\u001b[0;34m\u001b[0m\u001b[0;34m\u001b[0m\u001b[0m\n\u001b[0m\u001b[1;32m     13\u001b[0m \u001b[0mprint\u001b[0m\u001b[0;34m(\u001b[0m\u001b[0ms\u001b[0m\u001b[0;34m)\u001b[0m\u001b[0;34m\u001b[0m\u001b[0;34m\u001b[0m\u001b[0m\n\u001b[1;32m     14\u001b[0m \u001b[0;31m# Because, I cannot change the value of the string, we say that string is immutable.\u001b[0m\u001b[0;34m\u001b[0m\u001b[0;34m\u001b[0m\u001b[0m\n",
            "\u001b[0;31mTypeError\u001b[0m: 'str' object does not support item assignment"
          ]
        }
      ]
    },
    {
      "cell_type": "markdown",
      "source": [
        "7.  Write a function to demonstrate the behavior of mutable and immutable arguments"
      ],
      "metadata": {
        "id": "I1KJPtWJNta5"
      }
    },
    {
      "cell_type": "code",
      "source": [
        "# Mutability and Immutability\n",
        "# Mutability: Mutable objects are objects whose value can be changed after creation.\n",
        "# Immutability: Immutable objects are objects whose value cannot be changed after creation.\n",
        "\n",
        "l = [56, -8, 76, 2, 0]\n",
        "print(l)\n",
        "print(type(l))\n",
        "\n",
        "# [56, -8, 76, 2, 0]\n",
        "#   0   1   2  3  4\n",
        "\n",
        "# Accessing the elements of the list\n",
        "print(l[0]) # 56\n",
        "print(l[1]) # -8\n",
        "print(l[4]) # 0\n",
        "\n",
        "l[0] = \"Sarita\"\n",
        "print(l)\n",
        "# Because, I can change the value of the list, we say that list is mutable.\n",
        "# Mutable means Flexible i.e. I can change the value of the list."
      ],
      "metadata": {
        "colab": {
          "base_uri": "https://localhost:8080/"
        },
        "id": "CExYPMvQNyCz",
        "outputId": "2a0c60b8-5df5-429e-c965-2136389de0b4"
      },
      "execution_count": null,
      "outputs": [
        {
          "output_type": "stream",
          "name": "stdout",
          "text": [
            "[56, -8, 76, 2, 0]\n",
            "<class 'list'>\n",
            "56\n",
            "-8\n",
            "0\n",
            "['Sarita', -8, 76, 2, 0]\n"
          ]
        }
      ]
    },
    {
      "cell_type": "code",
      "source": [
        "s = \"Sarita\"\n",
        "print(s)\n",
        "print(type(s))\n",
        "\n",
        "# S a r i t a\n",
        "# 0 1 2 3 4 5\n",
        "\n",
        "# Accessing the elements of the string\n",
        "print(s[0]) # S\n",
        "print(s[1]) # a\n",
        "\n",
        "s[0] = \"P\"\n",
        "print(s)\n",
        "# Because, I cannot change the value of the string, we say that string is immutable.\n",
        "# Immutable means Rigid i.e. I cannot change the value of the string."
      ],
      "metadata": {
        "colab": {
          "base_uri": "https://localhost:8080/",
          "height": 280
        },
        "id": "DEfNpvYWN_HL",
        "outputId": "568583c9-7068-4b0f-e49a-8094491f1eae"
      },
      "execution_count": null,
      "outputs": [
        {
          "output_type": "stream",
          "name": "stdout",
          "text": [
            "Sarita\n",
            "<class 'str'>\n",
            "S\n",
            "a\n"
          ]
        },
        {
          "output_type": "error",
          "ename": "TypeError",
          "evalue": "'str' object does not support item assignment",
          "traceback": [
            "\u001b[0;31m---------------------------------------------------------------------------\u001b[0m",
            "\u001b[0;31mTypeError\u001b[0m                                 Traceback (most recent call last)",
            "\u001b[0;32m<ipython-input-6-664627d1c4b2>\u001b[0m in \u001b[0;36m<cell line: 0>\u001b[0;34m()\u001b[0m\n\u001b[1;32m     10\u001b[0m \u001b[0mprint\u001b[0m\u001b[0;34m(\u001b[0m\u001b[0ms\u001b[0m\u001b[0;34m[\u001b[0m\u001b[0;36m1\u001b[0m\u001b[0;34m]\u001b[0m\u001b[0;34m)\u001b[0m \u001b[0;31m# a\u001b[0m\u001b[0;34m\u001b[0m\u001b[0;34m\u001b[0m\u001b[0m\n\u001b[1;32m     11\u001b[0m \u001b[0;34m\u001b[0m\u001b[0m\n\u001b[0;32m---> 12\u001b[0;31m \u001b[0ms\u001b[0m\u001b[0;34m[\u001b[0m\u001b[0;36m0\u001b[0m\u001b[0;34m]\u001b[0m \u001b[0;34m=\u001b[0m \u001b[0;34m\"P\"\u001b[0m\u001b[0;34m\u001b[0m\u001b[0;34m\u001b[0m\u001b[0m\n\u001b[0m\u001b[1;32m     13\u001b[0m \u001b[0mprint\u001b[0m\u001b[0;34m(\u001b[0m\u001b[0ms\u001b[0m\u001b[0;34m)\u001b[0m\u001b[0;34m\u001b[0m\u001b[0;34m\u001b[0m\u001b[0m\n\u001b[1;32m     14\u001b[0m \u001b[0;31m# Because, I cannot change the value of the string, we say that string is immutable.\u001b[0m\u001b[0;34m\u001b[0m\u001b[0;34m\u001b[0m\u001b[0m\n",
            "\u001b[0;31mTypeError\u001b[0m: 'str' object does not support item assignment"
          ]
        }
      ]
    },
    {
      "cell_type": "markdown",
      "source": [
        "8.  Write a program to demonstrate the use of logical operators"
      ],
      "metadata": {
        "id": "xwh0oMKCOJu5"
      }
    },
    {
      "cell_type": "code",
      "source": [
        "# prompt: Loan Applicant: Age 28, Salary 65000, Required Age 25, Required Salary 50000\n",
        "\n",
        "def check_loan_eligibility(age, salary, required_age, required_salary):\n",
        "    \"\"\"\n",
        "    Checks if a loan applicant meets both age and salary requirements.\n",
        "\n",
        "    Args:\n",
        "      age: The applicant's age.\n",
        "      salary: The applicant's salary.\n",
        "      required_age: The minimum required age.\n",
        "      required_salary: The minimum required salary.\n",
        "\n",
        "    Returns:\n",
        "      True if the applicant meets both requirements, False otherwise.\n",
        "    \"\"\"\n",
        "    return age >= required_age and salary >= required_salary\n",
        "\n",
        "\n",
        "# Example usage for the given values:\n",
        "age = 28\n",
        "salary = 65000\n",
        "required_age = 25\n",
        "required_salary = 50000\n",
        "\n",
        "if check_loan_eligibility(age, salary, required_age, required_salary):\n",
        "    print(\"Loan applicant is eligible.\")\n",
        "else:\n",
        "    print(\"Loan applicant is not eligible.\")\n"
      ],
      "metadata": {
        "colab": {
          "base_uri": "https://localhost:8080/"
        },
        "id": "8YwGrv3xOPUe",
        "outputId": "522c0058-042f-4e79-cce4-3607863bf69f"
      },
      "execution_count": null,
      "outputs": [
        {
          "output_type": "stream",
          "name": "stdout",
          "text": [
            "Loan applicant is eligible.\n"
          ]
        }
      ]
    },
    {
      "cell_type": "markdown",
      "source": [
        "9. Write a Python program to convert user input from string to integer, float, and boolean types"
      ],
      "metadata": {
        "id": "Wu2-IjpSKs2c"
      }
    },
    {
      "cell_type": "code",
      "source": [
        "def convert_input(user_input):\n",
        "    try:\n",
        "        # Convert to integer\n",
        "        int_value = int(user_input)\n",
        "        print(f\"Integer: {int_value}\")\n",
        "    except ValueError:\n",
        "        print(\"Cannot convert to integer\")\n",
        "\n",
        "    try:\n",
        "        # Convert to float\n",
        "        float_value = float(user_input)\n",
        "        print(f\"Float: {float_value}\")\n",
        "    except ValueError:\n",
        "        print(\"Cannot convert to float\")\n",
        "\n",
        "    # Convert to boolean\n",
        "    bool_value = user_input.lower() in ['true', '1', 'yes']\n",
        "    print(f\"Boolean: {bool_value}\")\n",
        "\n",
        "# Get user input\n",
        "user_input = input(\"Enter a value: \")\n",
        "convert_input(user_input)"
      ],
      "metadata": {
        "colab": {
          "base_uri": "https://localhost:8080/"
        },
        "id": "pBf-ON1FK0XL",
        "outputId": "f138f3a1-e703-4e28-c59d-badb30cce253"
      },
      "execution_count": null,
      "outputs": [
        {
          "output_type": "stream",
          "name": "stdout",
          "text": [
            "Enter a value: 1\n",
            "Integer: 1\n",
            "Float: 1.0\n",
            "Boolean: True\n"
          ]
        }
      ]
    },
    {
      "cell_type": "markdown",
      "source": [
        "10.  Write code to demonstrate type casting with list elements."
      ],
      "metadata": {
        "id": "DaPQI07HK6Mr"
      }
    },
    {
      "cell_type": "code",
      "source": [
        "# Initial list with mixed types\n",
        "mixed_list = [1, '2', 3.0, '4.5', True]\n",
        "\n",
        "# Function to cast elements to different types\n",
        "def cast_elements(input_list):\n",
        "    int_list = [int(float(item)) for item in input_list]\n",
        "    float_list = [float(item) for item in input_list]\n",
        "    str_list = [str(item) for item in input_list]\n",
        "\n",
        "    return int_list, float_list, str_list\n",
        "\n",
        "# Casting the elements\n",
        "int_list, float_list, str_list = cast_elements(mixed_list)\n",
        "\n",
        "# Displaying the results\n",
        "print(\"Original list:\", mixed_list)\n",
        "print(\"List with elements cast to int:\", int_list)\n",
        "print(\"List with elements cast to float:\", float_list)\n",
        "print(\"List with elements cast to str:\", str_list)"
      ],
      "metadata": {
        "colab": {
          "base_uri": "https://localhost:8080/"
        },
        "id": "EQ6Ht7hlK9pO",
        "outputId": "83fbf4ba-62c4-4a5d-d053-84de3f6c3c01"
      },
      "execution_count": null,
      "outputs": [
        {
          "output_type": "stream",
          "name": "stdout",
          "text": [
            "Original list: [1, '2', 3.0, '4.5', True]\n",
            "List with elements cast to int: [1, 2, 3, 4, 1]\n",
            "List with elements cast to float: [1.0, 2.0, 3.0, 4.5, 1.0]\n",
            "List with elements cast to str: ['1', '2', '3.0', '4.5', 'True']\n"
          ]
        }
      ]
    },
    {
      "cell_type": "markdown",
      "source": [
        "11. Write a program that checks if a number is positive, negative, or zero."
      ],
      "metadata": {
        "id": "0-TG25qWQPHr"
      }
    },
    {
      "cell_type": "code",
      "source": [
        "def check_number(num):\n",
        "    if num > 0:\n",
        "        return \"The number is positive.\"\n",
        "    elif num < 0:\n",
        "        return \"The number is negative.\"\n",
        "    else:\n",
        "        return \"The number is zero.\"\n",
        "\n",
        "# Example usage\n",
        "number = float(input(\"Enter a number: \"))\n",
        "result = check_number(number)\n",
        "print(result)"
      ],
      "metadata": {
        "colab": {
          "base_uri": "https://localhost:8080/"
        },
        "id": "8LsQWGMuQYyc",
        "outputId": "08d1c639-02e2-4734-b1a4-9c094f35524f"
      },
      "execution_count": null,
      "outputs": [
        {
          "output_type": "stream",
          "name": "stdout",
          "text": [
            "Enter a number: 2\n",
            "The number is positive.\n"
          ]
        }
      ]
    },
    {
      "cell_type": "markdown",
      "source": [
        "12. Write a for loop to print numbers from 1 to 10."
      ],
      "metadata": {
        "id": "vEmjvSc3Q3vm"
      }
    },
    {
      "cell_type": "code",
      "source": [
        "for i in range(1, 11):\n",
        "    print(i)"
      ],
      "metadata": {
        "colab": {
          "base_uri": "https://localhost:8080/"
        },
        "id": "SEZ4kF3BRQaY",
        "outputId": "6736d0f0-b4a8-40ba-84ed-0a53c9f13684"
      },
      "execution_count": null,
      "outputs": [
        {
          "output_type": "stream",
          "name": "stdout",
          "text": [
            "1\n",
            "2\n",
            "3\n",
            "4\n",
            "5\n",
            "6\n",
            "7\n",
            "8\n",
            "9\n",
            "10\n"
          ]
        }
      ]
    },
    {
      "cell_type": "markdown",
      "source": [
        "13.  Write a Python program to find the sum of all even numbers between 1 and 50."
      ],
      "metadata": {
        "id": "VlEMBs73RlIf"
      }
    },
    {
      "cell_type": "code",
      "source": [
        "# Initialize the sum variable\n",
        "sum_of_evens = 0\n",
        "\n",
        "# Loop through numbers from 1 to 50\n",
        "for number in range(1, 51):\n",
        "    # Check if the number is even\n",
        "    if number % 2 == 0:\n",
        "        # Add the even number to the sum\n",
        "        sum_of_evens += number\n",
        "\n",
        "# Print the result\n",
        "print(\"The sum of all even numbers between 1 and 50 is:\", sum_of_evens)"
      ],
      "metadata": {
        "colab": {
          "base_uri": "https://localhost:8080/"
        },
        "id": "L5-g5xPjRxwJ",
        "outputId": "76d7660c-c934-4f25-9e68-c04bf306eca4"
      },
      "execution_count": null,
      "outputs": [
        {
          "output_type": "stream",
          "name": "stdout",
          "text": [
            "The sum of all even numbers between 1 and 50 is: 650\n"
          ]
        }
      ]
    },
    {
      "cell_type": "markdown",
      "source": [
        "14.  Write a program to reverse a string using a while loop."
      ],
      "metadata": {
        "id": "1X9A9jqgSA2z"
      }
    },
    {
      "cell_type": "code",
      "source": [
        "def reverse_string(input_string):\n",
        "    # Initialize an empty string to store the reversed string\n",
        "    reversed_string = \"\"\n",
        "\n",
        "    # Get the length of the input string\n",
        "    length = len(input_string)\n",
        "\n",
        "    # Initialize the index to the last character of the input string\n",
        "    index = length - 1\n",
        "\n",
        "    # Use a while loop to iterate through the string in reverse order\n",
        "    while index >= 0:\n",
        "        # Append the current character to the reversed string\n",
        "        reversed_string += input_string[index]\n",
        "        # Decrement the index\n",
        "        index -= 1\n",
        "\n",
        "    return reversed_string\n",
        "\n",
        "# Example usage\n",
        "original_string = \"Hello, World!\"\n",
        "reversed_string = reverse_string(original_string)\n",
        "print(\"Original String:\", original_string)\n",
        "print(\"Reversed String:\", reversed_string)"
      ],
      "metadata": {
        "colab": {
          "base_uri": "https://localhost:8080/"
        },
        "id": "l0gsE-WMSf8k",
        "outputId": "a5a2afcb-d56d-4480-f6cd-cd21b99404d1"
      },
      "execution_count": null,
      "outputs": [
        {
          "output_type": "stream",
          "name": "stdout",
          "text": [
            "Original String: Hello, World!\n",
            "Reversed String: !dlroW ,olleH\n"
          ]
        }
      ]
    },
    {
      "cell_type": "markdown",
      "source": [
        "15.  Write a Python program to calculate the factorial of a number provided by the user using a while loop."
      ],
      "metadata": {
        "id": "mTv0SO-aSrOG"
      }
    },
    {
      "cell_type": "code",
      "source": [
        "# Function to calculate factorial using a while loop\n",
        "def factorial(n):\n",
        "    result = 1\n",
        "    while n > 0:\n",
        "        result *= n\n",
        "        n -= 1\n",
        "    return result\n",
        "\n",
        "# Main program\n",
        "try:\n",
        "    # Taking input from the user\n",
        "    number = int(input(\"Enter a number to calculate its factorial: \"))\n",
        "\n",
        "    if number < 0:\n",
        "        print(\"Factorial is not defined for negative numbers.\")\n",
        "    else:\n",
        "        # Calculating factorial\n",
        "        fact = factorial(number)\n",
        "        print(f\"The factorial of {number} is {fact}.\")\n",
        "except ValueError:\n",
        "    print(\"Please enter a valid integer.\")"
      ],
      "metadata": {
        "colab": {
          "base_uri": "https://localhost:8080/"
        },
        "id": "usKVUNR0S7uA",
        "outputId": "99194997-2cf5-4629-d217-d7c684506737"
      },
      "execution_count": null,
      "outputs": [
        {
          "output_type": "stream",
          "name": "stdout",
          "text": [
            "Enter a number to calculate its factorial: 2\n",
            "The factorial of 2 is 2.\n"
          ]
        }
      ]
    }
  ]
}